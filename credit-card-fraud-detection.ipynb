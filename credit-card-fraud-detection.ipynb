{
 "cells": [
  {
   "cell_type": "code",
   "execution_count": 1,
   "id": "f69ff1fa",
   "metadata": {
    "_cell_guid": "b1076dfc-b9ad-4769-8c92-a6c4dae69d19",
    "_uuid": "8f2839f25d086af736a60e9eeb907d3b93b6e0e5",
    "execution": {
     "iopub.execute_input": "2024-08-02T08:02:51.225300Z",
     "iopub.status.busy": "2024-08-02T08:02:51.224749Z",
     "iopub.status.idle": "2024-08-02T08:02:54.053729Z",
     "shell.execute_reply": "2024-08-02T08:02:54.052394Z"
    },
    "papermill": {
     "duration": 2.839975,
     "end_time": "2024-08-02T08:02:54.056471",
     "exception": false,
     "start_time": "2024-08-02T08:02:51.216496",
     "status": "completed"
    },
    "tags": []
   },
   "outputs": [],
   "source": [
    "import pandas as pd\n",
    "from sklearn.model_selection import train_test_split\n",
    "from sklearn.preprocessing import OneHotEncoder, StandardScaler\n",
    "from sklearn.compose import ColumnTransformer\n",
    "from sklearn.pipeline import Pipeline\n",
    "from sklearn.linear_model import LogisticRegression\n",
    "from sklearn.metrics import accuracy_score, confusion_matrix, classification_report\n"
   ]
  },
  {
   "cell_type": "code",
   "execution_count": 2,
   "id": "c188c859",
   "metadata": {
    "execution": {
     "iopub.execute_input": "2024-08-02T08:02:54.066989Z",
     "iopub.status.busy": "2024-08-02T08:02:54.066437Z",
     "iopub.status.idle": "2024-08-02T08:03:06.303903Z",
     "shell.execute_reply": "2024-08-02T08:03:06.302611Z"
    },
    "papermill": {
     "duration": 12.245831,
     "end_time": "2024-08-02T08:03:06.306750",
     "exception": false,
     "start_time": "2024-08-02T08:02:54.060919",
     "status": "completed"
    },
    "tags": []
   },
   "outputs": [
    {
     "name": "stdout",
     "output_type": "stream",
     "text": [
      "   Unnamed: 0 trans_date_trans_time            cc_num  \\\n",
      "0           0   2019-01-01 00:00:18  2703186189652095   \n",
      "1           1   2019-01-01 00:00:44      630423337322   \n",
      "2           2   2019-01-01 00:00:51    38859492057661   \n",
      "3           3   2019-01-01 00:01:16  3534093764340240   \n",
      "4           4   2019-01-01 00:03:06   375534208663984   \n",
      "\n",
      "                             merchant       category     amt      first  \\\n",
      "0          fraud_Rippin, Kub and Mann       misc_net    4.97   Jennifer   \n",
      "1     fraud_Heller, Gutmann and Zieme    grocery_pos  107.23  Stephanie   \n",
      "2                fraud_Lind-Buckridge  entertainment  220.11     Edward   \n",
      "3  fraud_Kutch, Hermiston and Farrell  gas_transport   45.00     Jeremy   \n",
      "4                 fraud_Keeling-Crist       misc_pos   41.96      Tyler   \n",
      "\n",
      "      last gender                        street  ...      long city_pop  \\\n",
      "0    Banks      F                561 Perry Cove  ...  -81.1781     3495   \n",
      "1     Gill      F  43039 Riley Greens Suite 393  ... -118.2105      149   \n",
      "2  Sanchez      M      594 White Dale Suite 530  ... -112.2620     4154   \n",
      "3    White      M   9443 Cynthia Court Apt. 038  ... -112.1138     1939   \n",
      "4   Garcia      M              408 Bradley Rest  ...  -79.4629       99   \n",
      "\n",
      "                                 job         dob  \\\n",
      "0          Psychologist, counselling  1988-03-09   \n",
      "1  Special educational needs teacher  1978-06-21   \n",
      "2        Nature conservation officer  1962-01-19   \n",
      "3                    Patent attorney  1967-01-12   \n",
      "4     Dance movement psychotherapist  1986-03-28   \n",
      "\n",
      "                          trans_num   unix_time  merch_lat  merch_long  \\\n",
      "0  0b242abb623afc578575680df30655b9  1325376018  36.011293  -82.048315   \n",
      "1  1f76529f8574734946361c461b024d99  1325376044  49.159047 -118.186462   \n",
      "2  a1a22d70485983eac12b5b88dad1cf95  1325376051  43.150704 -112.154481   \n",
      "3  6b849c168bdad6f867558c3793159a81  1325376076  47.034331 -112.561071   \n",
      "4  a41d7549acf90789359a9aa5346dcb46  1325376186  38.674999  -78.632459   \n",
      "\n",
      "  is_fraud  merch_zipcode  \n",
      "0        0        28705.0  \n",
      "1        0            NaN  \n",
      "2        0        83236.0  \n",
      "3        0            NaN  \n",
      "4        0        22844.0  \n",
      "\n",
      "[5 rows x 24 columns]\n"
     ]
    }
   ],
   "source": [
    "# Load the dataset\n",
    "df = pd.read_csv('/kaggle/input/credit-card-transactions-dataset/credit_card_transactions.csv')\n",
    "print(df.head())\n"
   ]
  },
  {
   "cell_type": "code",
   "execution_count": 3,
   "id": "0c907c65",
   "metadata": {
    "execution": {
     "iopub.execute_input": "2024-08-02T08:03:06.317503Z",
     "iopub.status.busy": "2024-08-02T08:03:06.317028Z",
     "iopub.status.idle": "2024-08-02T08:03:06.647081Z",
     "shell.execute_reply": "2024-08-02T08:03:06.645662Z"
    },
    "papermill": {
     "duration": 0.338522,
     "end_time": "2024-08-02T08:03:06.649655",
     "exception": false,
     "start_time": "2024-08-02T08:03:06.311133",
     "status": "completed"
    },
    "tags": []
   },
   "outputs": [
    {
     "name": "stdout",
     "output_type": "stream",
     "text": [
      "  trans_date_trans_time            cc_num                            merchant  \\\n",
      "0   2019-01-01 00:00:18  2703186189652095          fraud_Rippin, Kub and Mann   \n",
      "1   2019-01-01 00:00:44      630423337322     fraud_Heller, Gutmann and Zieme   \n",
      "2   2019-01-01 00:00:51    38859492057661                fraud_Lind-Buckridge   \n",
      "3   2019-01-01 00:01:16  3534093764340240  fraud_Kutch, Hermiston and Farrell   \n",
      "4   2019-01-01 00:03:06   375534208663984                 fraud_Keeling-Crist   \n",
      "\n",
      "        category     amt      first     last gender  \\\n",
      "0       misc_net    4.97   Jennifer    Banks      F   \n",
      "1    grocery_pos  107.23  Stephanie     Gill      F   \n",
      "2  entertainment  220.11     Edward  Sanchez      M   \n",
      "3  gas_transport   45.00     Jeremy    White      M   \n",
      "4       misc_pos   41.96      Tyler   Garcia      M   \n",
      "\n",
      "                         street            city  ...      long  city_pop  \\\n",
      "0                561 Perry Cove  Moravian Falls  ...  -81.1781      3495   \n",
      "1  43039 Riley Greens Suite 393          Orient  ... -118.2105       149   \n",
      "2      594 White Dale Suite 530      Malad City  ... -112.2620      4154   \n",
      "3   9443 Cynthia Court Apt. 038         Boulder  ... -112.1138      1939   \n",
      "4              408 Bradley Rest        Doe Hill  ...  -79.4629        99   \n",
      "\n",
      "                                 job         dob  \\\n",
      "0          Psychologist, counselling  1988-03-09   \n",
      "1  Special educational needs teacher  1978-06-21   \n",
      "2        Nature conservation officer  1962-01-19   \n",
      "3                    Patent attorney  1967-01-12   \n",
      "4     Dance movement psychotherapist  1986-03-28   \n",
      "\n",
      "                          trans_num   unix_time  merch_lat  merch_long  \\\n",
      "0  0b242abb623afc578575680df30655b9  1325376018  36.011293  -82.048315   \n",
      "1  1f76529f8574734946361c461b024d99  1325376044  49.159047 -118.186462   \n",
      "2  a1a22d70485983eac12b5b88dad1cf95  1325376051  43.150704 -112.154481   \n",
      "3  6b849c168bdad6f867558c3793159a81  1325376076  47.034331 -112.561071   \n",
      "4  a41d7549acf90789359a9aa5346dcb46  1325376186  38.674999  -78.632459   \n",
      "\n",
      "   is_fraud  merch_zipcode  \n",
      "0         0        28705.0  \n",
      "1         0            NaN  \n",
      "2         0        83236.0  \n",
      "3         0            NaN  \n",
      "4         0        22844.0  \n",
      "\n",
      "[5 rows x 23 columns]\n"
     ]
    }
   ],
   "source": [
    "df = df.drop(columns=['Unnamed: 0'])\n",
    "print(df.head())"
   ]
  },
  {
   "cell_type": "code",
   "execution_count": 4,
   "id": "7c261875",
   "metadata": {
    "execution": {
     "iopub.execute_input": "2024-08-02T08:03:06.660739Z",
     "iopub.status.busy": "2024-08-02T08:03:06.659991Z",
     "iopub.status.idle": "2024-08-02T08:03:08.075764Z",
     "shell.execute_reply": "2024-08-02T08:03:08.074524Z"
    },
    "papermill": {
     "duration": 1.424146,
     "end_time": "2024-08-02T08:03:08.078379",
     "exception": false,
     "start_time": "2024-08-02T08:03:06.654233",
     "status": "completed"
    },
    "tags": []
   },
   "outputs": [
    {
     "name": "stdout",
     "output_type": "stream",
     "text": [
      "             cc_num           amt           zip           lat          long  \\\n",
      "count  1.296675e+06  1.296675e+06  1.296675e+06  1.296675e+06  1.296675e+06   \n",
      "mean   4.171920e+17  7.035104e+01  4.880067e+04  3.853762e+01 -9.022634e+01   \n",
      "std    1.308806e+18  1.603160e+02  2.689322e+04  5.075808e+00  1.375908e+01   \n",
      "min    6.041621e+10  1.000000e+00  1.257000e+03  2.002710e+01 -1.656723e+02   \n",
      "25%    1.800429e+14  9.650000e+00  2.623700e+04  3.462050e+01 -9.679800e+01   \n",
      "50%    3.521417e+15  4.752000e+01  4.817400e+04  3.935430e+01 -8.747690e+01   \n",
      "75%    4.642255e+15  8.314000e+01  7.204200e+04  4.194040e+01 -8.015800e+01   \n",
      "max    4.992346e+18  2.894890e+04  9.978300e+04  6.669330e+01 -6.795030e+01   \n",
      "\n",
      "           city_pop     unix_time     merch_lat    merch_long      is_fraud  \\\n",
      "count  1.296675e+06  1.296675e+06  1.296675e+06  1.296675e+06  1.296675e+06   \n",
      "mean   8.882444e+04  1.349244e+09  3.853734e+01 -9.022646e+01  5.788652e-03   \n",
      "std    3.019564e+05  1.284128e+07  5.109788e+00  1.377109e+01  7.586269e-02   \n",
      "min    2.300000e+01  1.325376e+09  1.902779e+01 -1.666712e+02  0.000000e+00   \n",
      "25%    7.430000e+02  1.338751e+09  3.473357e+01 -9.689728e+01  0.000000e+00   \n",
      "50%    2.456000e+03  1.349250e+09  3.936568e+01 -8.743839e+01  0.000000e+00   \n",
      "75%    2.032800e+04  1.359385e+09  4.195716e+01 -8.023680e+01  0.000000e+00   \n",
      "max    2.906700e+06  1.371817e+09  6.751027e+01 -6.695090e+01  1.000000e+00   \n",
      "\n",
      "       merch_zipcode  \n",
      "count   1.100702e+06  \n",
      "mean    4.682575e+04  \n",
      "std     2.583400e+04  \n",
      "min     1.001000e+03  \n",
      "25%     2.511400e+04  \n",
      "50%     4.586000e+04  \n",
      "75%     6.831900e+04  \n",
      "max     9.940300e+04  \n",
      "trans_date_trans_time         0\n",
      "cc_num                        0\n",
      "merchant                      0\n",
      "category                      0\n",
      "amt                           0\n",
      "first                         0\n",
      "last                          0\n",
      "gender                        0\n",
      "street                        0\n",
      "city                          0\n",
      "state                         0\n",
      "zip                           0\n",
      "lat                           0\n",
      "long                          0\n",
      "city_pop                      0\n",
      "job                           0\n",
      "dob                           0\n",
      "trans_num                     0\n",
      "unix_time                     0\n",
      "merch_lat                     0\n",
      "merch_long                    0\n",
      "is_fraud                      0\n",
      "merch_zipcode            195973\n",
      "dtype: int64\n"
     ]
    }
   ],
   "source": [
    "# Display summary statistics\n",
    "print(df.describe())\n",
    "\n",
    "# Check for missing values\n",
    "print(df.isnull().sum())"
   ]
  },
  {
   "cell_type": "code",
   "execution_count": 5,
   "id": "cede2175",
   "metadata": {
    "execution": {
     "iopub.execute_input": "2024-08-02T08:03:08.089679Z",
     "iopub.status.busy": "2024-08-02T08:03:08.089278Z",
     "iopub.status.idle": "2024-08-02T08:03:08.863667Z",
     "shell.execute_reply": "2024-08-02T08:03:08.862033Z"
    },
    "papermill": {
     "duration": 0.783309,
     "end_time": "2024-08-02T08:03:08.866229",
     "exception": false,
     "start_time": "2024-08-02T08:03:08.082920",
     "status": "completed"
    },
    "tags": []
   },
   "outputs": [
    {
     "name": "stdout",
     "output_type": "stream",
     "text": [
      "<class 'pandas.core.frame.DataFrame'>\n",
      "RangeIndex: 1296675 entries, 0 to 1296674\n",
      "Data columns (total 23 columns):\n",
      " #   Column                 Non-Null Count    Dtype  \n",
      "---  ------                 --------------    -----  \n",
      " 0   trans_date_trans_time  1296675 non-null  object \n",
      " 1   cc_num                 1296675 non-null  int64  \n",
      " 2   merchant               1296675 non-null  object \n",
      " 3   category               1296675 non-null  object \n",
      " 4   amt                    1296675 non-null  float64\n",
      " 5   first                  1296675 non-null  object \n",
      " 6   last                   1296675 non-null  object \n",
      " 7   gender                 1296675 non-null  object \n",
      " 8   street                 1296675 non-null  object \n",
      " 9   city                   1296675 non-null  object \n",
      " 10  state                  1296675 non-null  object \n",
      " 11  zip                    1296675 non-null  int64  \n",
      " 12  lat                    1296675 non-null  float64\n",
      " 13  long                   1296675 non-null  float64\n",
      " 14  city_pop               1296675 non-null  int64  \n",
      " 15  job                    1296675 non-null  object \n",
      " 16  dob                    1296675 non-null  object \n",
      " 17  trans_num              1296675 non-null  object \n",
      " 18  unix_time              1296675 non-null  int64  \n",
      " 19  merch_lat              1296675 non-null  float64\n",
      " 20  merch_long             1296675 non-null  float64\n",
      " 21  is_fraud               1296675 non-null  int64  \n",
      " 22  merch_zipcode          1100702 non-null  float64\n",
      "dtypes: float64(6), int64(5), object(12)\n",
      "memory usage: 227.5+ MB\n"
     ]
    }
   ],
   "source": [
    "df.info()"
   ]
  },
  {
   "cell_type": "code",
   "execution_count": 6,
   "id": "d77528c6",
   "metadata": {
    "execution": {
     "iopub.execute_input": "2024-08-02T08:03:08.877541Z",
     "iopub.status.busy": "2024-08-02T08:03:08.876880Z",
     "iopub.status.idle": "2024-08-02T08:03:09.131668Z",
     "shell.execute_reply": "2024-08-02T08:03:09.129550Z"
    },
    "papermill": {
     "duration": 0.263651,
     "end_time": "2024-08-02T08:03:09.134586",
     "exception": false,
     "start_time": "2024-08-02T08:03:08.870935",
     "status": "completed"
    },
    "tags": []
   },
   "outputs": [],
   "source": [
    "# Drop unnecessary columns\n",
    "df = df.drop(columns=['trans_date_trans_time', 'trans_num', 'unix_time', 'dob', 'first', 'last'])\n",
    "\n",
    "# Handle missing values\n",
    "df['merch_zipcode'] = df['merch_zipcode'].fillna(-1)  # Using -1 as a placeholder for missing values\n",
    "\n"
   ]
  },
  {
   "cell_type": "code",
   "execution_count": 7,
   "id": "6279ae47",
   "metadata": {
    "execution": {
     "iopub.execute_input": "2024-08-02T08:03:09.145787Z",
     "iopub.status.busy": "2024-08-02T08:03:09.145354Z",
     "iopub.status.idle": "2024-08-02T08:03:09.160883Z",
     "shell.execute_reply": "2024-08-02T08:03:09.159168Z"
    },
    "papermill": {
     "duration": 0.024315,
     "end_time": "2024-08-02T08:03:09.163596",
     "exception": false,
     "start_time": "2024-08-02T08:03:09.139281",
     "status": "completed"
    },
    "tags": []
   },
   "outputs": [
    {
     "name": "stdout",
     "output_type": "stream",
     "text": [
      "                      cc_num                             merchant  \\\n",
      "0           2703186189652095           fraud_Rippin, Kub and Mann   \n",
      "1               630423337322      fraud_Heller, Gutmann and Zieme   \n",
      "2             38859492057661                 fraud_Lind-Buckridge   \n",
      "3           3534093764340240   fraud_Kutch, Hermiston and Farrell   \n",
      "4            375534208663984                  fraud_Keeling-Crist   \n",
      "...                      ...                                  ...   \n",
      "1296670       30263540414123                    fraud_Reichel Inc   \n",
      "1296671     6011149206456997             fraud_Abernathy and Sons   \n",
      "1296672     3514865930894695                 fraud_Stiedemann Ltd   \n",
      "1296673     2720012583106919  fraud_Reinger, Weissnat and Strosin   \n",
      "1296674  4292902571056973207  fraud_Langosh, Wintheiser and Hyatt   \n",
      "\n",
      "              category     amt gender                         street  \\\n",
      "0             misc_net    4.97      F                 561 Perry Cove   \n",
      "1          grocery_pos  107.23      F   43039 Riley Greens Suite 393   \n",
      "2        entertainment  220.11      M       594 White Dale Suite 530   \n",
      "3        gas_transport   45.00      M    9443 Cynthia Court Apt. 038   \n",
      "4             misc_pos   41.96      M               408 Bradley Rest   \n",
      "...                ...     ...    ...                            ...   \n",
      "1296670  entertainment   15.56      M       162 Jessica Row Apt. 072   \n",
      "1296671    food_dining   51.70      M  8617 Holmes Terrace Suite 651   \n",
      "1296672    food_dining  105.93      M     1632 Cohen Drive Suite 639   \n",
      "1296673    food_dining   74.90      M           42933 Ryan Underpass   \n",
      "1296674    food_dining    4.30      M           135 Joseph Mountains   \n",
      "\n",
      "                             city state    zip      lat      long  city_pop  \\\n",
      "0                  Moravian Falls    NC  28654  36.0788  -81.1781      3495   \n",
      "1                          Orient    WA  99160  48.8878 -118.2105       149   \n",
      "2                      Malad City    ID  83252  42.1808 -112.2620      4154   \n",
      "3                         Boulder    MT  59632  46.2306 -112.1138      1939   \n",
      "4                        Doe Hill    VA  24433  38.4207  -79.4629        99   \n",
      "...                           ...   ...    ...      ...       ...       ...   \n",
      "1296670                     Hatch    UT  84735  37.7175 -112.4777       258   \n",
      "1296671                 Tuscarora    MD  21790  39.2667  -77.5101       100   \n",
      "1296672  High Rolls Mountain Park    NM  88325  32.9396 -105.8189       899   \n",
      "1296673                 Manderson    SD  57756  43.3526 -102.5411      1126   \n",
      "1296674                      Sula    MT  59871  45.8433 -113.8748       218   \n",
      "\n",
      "                                       job  merch_lat  merch_long  is_fraud  \\\n",
      "0                Psychologist, counselling  36.011293  -82.048315         0   \n",
      "1        Special educational needs teacher  49.159047 -118.186462         0   \n",
      "2              Nature conservation officer  43.150704 -112.154481         0   \n",
      "3                          Patent attorney  47.034331 -112.561071         0   \n",
      "4           Dance movement psychotherapist  38.674999  -78.632459         0   \n",
      "...                                    ...        ...         ...       ...   \n",
      "1296670                       Geoscientist  36.841266 -111.690765         0   \n",
      "1296671   Production assistant, television  38.906881  -78.246528         0   \n",
      "1296672                    Naval architect  33.619513 -105.130529         0   \n",
      "1296673              Volunteer coordinator  42.788940 -103.241160         0   \n",
      "1296674           Therapist, horticultural  46.565983 -114.186110         0   \n",
      "\n",
      "         merch_zipcode  \n",
      "0              28705.0  \n",
      "1                 -1.0  \n",
      "2              83236.0  \n",
      "3                 -1.0  \n",
      "4              22844.0  \n",
      "...                ...  \n",
      "1296670           -1.0  \n",
      "1296671        22630.0  \n",
      "1296672        88351.0  \n",
      "1296673        69367.0  \n",
      "1296674        59870.0  \n",
      "\n",
      "[1296675 rows x 17 columns]\n"
     ]
    }
   ],
   "source": [
    "print(df)"
   ]
  },
  {
   "cell_type": "code",
   "execution_count": 8,
   "id": "214f67db",
   "metadata": {
    "execution": {
     "iopub.execute_input": "2024-08-02T08:03:09.176547Z",
     "iopub.status.busy": "2024-08-02T08:03:09.175764Z",
     "iopub.status.idle": "2024-08-02T08:03:09.328215Z",
     "shell.execute_reply": "2024-08-02T08:03:09.326770Z"
    },
    "papermill": {
     "duration": 0.162326,
     "end_time": "2024-08-02T08:03:09.331265",
     "exception": false,
     "start_time": "2024-08-02T08:03:09.168939",
     "status": "completed"
    },
    "tags": []
   },
   "outputs": [],
   "source": [
    "# Separate features and target variable\n",
    "X = df.drop(columns=['is_fraud'])\n",
    "y = df['is_fraud']\n",
    "\n",
    "# List of categorical columns\n",
    "categorical_features = ['merchant', 'category', 'gender', 'city', 'state', 'job']\n",
    "\n",
    "# Preprocessor\n",
    "preprocessor = ColumnTransformer(\n",
    "    transformers=[\n",
    "        ('cat', OneHotEncoder(handle_unknown='ignore'), categorical_features),\n",
    "        ('num', StandardScaler(), ['amt', 'cc_num', 'zip', 'lat', 'long', 'city_pop', 'merch_lat', 'merch_long', 'merch_zipcode'])  # Adjust numerical columns as needed\n",
    "    ]\n",
    ")\n"
   ]
  },
  {
   "cell_type": "code",
   "execution_count": 9,
   "id": "da79237a",
   "metadata": {
    "execution": {
     "iopub.execute_input": "2024-08-02T08:03:09.343591Z",
     "iopub.status.busy": "2024-08-02T08:03:09.343176Z",
     "iopub.status.idle": "2024-08-02T08:04:10.081065Z",
     "shell.execute_reply": "2024-08-02T08:04:10.079509Z"
    },
    "papermill": {
     "duration": 60.747062,
     "end_time": "2024-08-02T08:04:10.083970",
     "exception": false,
     "start_time": "2024-08-02T08:03:09.336908",
     "status": "completed"
    },
    "tags": []
   },
   "outputs": [
    {
     "name": "stdout",
     "output_type": "stream",
     "text": [
      "Accuracy: 0.9940128996434475\n",
      "Confusion Matrix:\n",
      " [[386536    182]\n",
      " [  2147    138]]\n",
      "Classification Report:\n",
      "               precision    recall  f1-score   support\n",
      "\n",
      "           0       0.99      1.00      1.00    386718\n",
      "           1       0.43      0.06      0.11      2285\n",
      "\n",
      "    accuracy                           0.99    389003\n",
      "   macro avg       0.71      0.53      0.55    389003\n",
      "weighted avg       0.99      0.99      0.99    389003\n",
      "\n"
     ]
    }
   ],
   "source": [
    "# Split the data\n",
    "X_train, X_test, y_train, y_test = train_test_split(X, y, test_size=0.3, random_state=42)\n",
    "\n",
    "# Define the pipeline with preprocessing and Logistic Regression model\n",
    "pipeline = Pipeline(steps=[\n",
    "    ('preprocessor', preprocessor),\n",
    "    ('classifier', LogisticRegression(max_iter=1000))\n",
    "])\n",
    "\n",
    "# Fit the model\n",
    "pipeline.fit(X_train, y_train)\n",
    "\n",
    "# Predict on the test set\n",
    "y_pred = pipeline.predict(X_test)\n",
    "\n",
    "# Evaluate the model\n",
    "print('Accuracy:', accuracy_score(y_test, y_pred))\n",
    "print('Confusion Matrix:\\n', confusion_matrix(y_test, y_pred))\n",
    "print('Classification Report:\\n', classification_report(y_test, y_pred))"
   ]
  },
  {
   "cell_type": "code",
   "execution_count": 10,
   "id": "ea3038cb",
   "metadata": {
    "execution": {
     "iopub.execute_input": "2024-08-02T08:04:10.095895Z",
     "iopub.status.busy": "2024-08-02T08:04:10.095484Z",
     "iopub.status.idle": "2024-08-02T08:04:17.069537Z",
     "shell.execute_reply": "2024-08-02T08:04:17.068261Z"
    },
    "papermill": {
     "duration": 6.983326,
     "end_time": "2024-08-02T08:04:17.072276",
     "exception": false,
     "start_time": "2024-08-02T08:04:10.088950",
     "status": "completed"
    },
    "tags": []
   },
   "outputs": [],
   "source": [
    "from sklearn.preprocessing import OneHotEncoder\n",
    "from sklearn.compose import ColumnTransformer\n",
    "from sklearn.pipeline import Pipeline\n",
    "from sklearn.impute import SimpleImputer\n",
    "from sklearn.preprocessing import StandardScaler\n",
    "\n",
    "# Define categorical and numerical columns\n",
    "categorical_cols = X_train.select_dtypes(include=['object']).columns\n",
    "numerical_cols = X_train.select_dtypes(include=['int64', 'float64']).columns\n",
    "\n",
    "# Preprocessor for numerical data\n",
    "numerical_transformer = Pipeline(steps=[\n",
    "    ('imputer', SimpleImputer(strategy='median')),\n",
    "    ('scaler', StandardScaler())\n",
    "])\n",
    "\n",
    "# Preprocessor for categorical data\n",
    "categorical_transformer = Pipeline(steps=[\n",
    "    ('imputer', SimpleImputer(strategy='constant', fill_value='missing')),\n",
    "    ('onehot', OneHotEncoder(handle_unknown='ignore'))\n",
    "])\n",
    "\n",
    "# Combine preprocessor into a single ColumnTransformer\n",
    "preprocessor = ColumnTransformer(\n",
    "    transformers=[\n",
    "        ('num', numerical_transformer, numerical_cols),\n",
    "        ('cat', categorical_transformer, categorical_cols)\n",
    "    ])\n",
    "\n",
    "# Apply preprocessing\n",
    "X_train_processed = preprocessor.fit_transform(X_train)\n",
    "X_test_processed = preprocessor.transform(X_test)\n"
   ]
  },
  {
   "cell_type": "code",
   "execution_count": 11,
   "id": "46281099",
   "metadata": {
    "execution": {
     "iopub.execute_input": "2024-08-02T08:04:17.084132Z",
     "iopub.status.busy": "2024-08-02T08:04:17.083679Z",
     "iopub.status.idle": "2024-08-02T08:08:23.139693Z",
     "shell.execute_reply": "2024-08-02T08:08:23.138112Z"
    },
    "papermill": {
     "duration": 246.065575,
     "end_time": "2024-08-02T08:08:23.142892",
     "exception": false,
     "start_time": "2024-08-02T08:04:17.077317",
     "status": "completed"
    },
    "tags": []
   },
   "outputs": [
    {
     "name": "stderr",
     "output_type": "stream",
     "text": [
      "/opt/conda/lib/python3.10/site-packages/sklearn/linear_model/_logistic.py:458: ConvergenceWarning: lbfgs failed to converge (status=1):\n",
      "STOP: TOTAL NO. of ITERATIONS REACHED LIMIT.\n",
      "\n",
      "Increase the number of iterations (max_iter) or scale the data as shown in:\n",
      "    https://scikit-learn.org/stable/modules/preprocessing.html\n",
      "Please also refer to the documentation for alternative solver options:\n",
      "    https://scikit-learn.org/stable/modules/linear_model.html#logistic-regression\n",
      "  n_iter_i = _check_optimize_result(\n"
     ]
    },
    {
     "name": "stdout",
     "output_type": "stream",
     "text": [
      "Confusion Matrix:\n",
      "[[348246  38472]\n",
      " [   427   1858]]\n",
      "\n",
      "Classification Report:\n",
      "              precision    recall  f1-score   support\n",
      "\n",
      "           0       1.00      0.90      0.95    386718\n",
      "           1       0.05      0.81      0.09      2285\n",
      "\n",
      "    accuracy                           0.90    389003\n",
      "   macro avg       0.52      0.86      0.52    389003\n",
      "weighted avg       0.99      0.90      0.94    389003\n",
      "\n"
     ]
    }
   ],
   "source": [
    "from imblearn.over_sampling import SMOTE\n",
    "\n",
    "# Apply SMOTE\n",
    "smote = SMOTE(random_state=42)\n",
    "X_resampled, y_resampled = smote.fit_resample(X_train_processed, y_train)\n",
    "\n",
    "# Train the model\n",
    "from sklearn.linear_model import LogisticRegression\n",
    "model = LogisticRegression(max_iter=1000)\n",
    "model.fit(X_resampled, y_resampled)\n",
    "\n",
    "# Predict on the test set\n",
    "y_pred = model.predict(X_test_processed)\n",
    "\n",
    "# Evaluate the model\n",
    "from sklearn.metrics import classification_report, confusion_matrix\n",
    "print(\"Confusion Matrix:\")\n",
    "print(confusion_matrix(y_test, y_pred))\n",
    "print(\"\\nClassification Report:\")\n",
    "print(classification_report(y_test, y_pred))\n"
   ]
  },
  {
   "cell_type": "code",
   "execution_count": 12,
   "id": "27071ebb",
   "metadata": {
    "execution": {
     "iopub.execute_input": "2024-08-02T08:08:23.156235Z",
     "iopub.status.busy": "2024-08-02T08:08:23.155599Z",
     "iopub.status.idle": "2024-08-02T08:08:23.840365Z",
     "shell.execute_reply": "2024-08-02T08:08:23.838990Z"
    },
    "papermill": {
     "duration": 0.694798,
     "end_time": "2024-08-02T08:08:23.842969",
     "exception": false,
     "start_time": "2024-08-02T08:08:23.148171",
     "status": "completed"
    },
    "tags": []
   },
   "outputs": [
    {
     "name": "stdout",
     "output_type": "stream",
     "text": [
      "Best Threshold: 0.9662\n",
      "Best F1 Score: 0.3743\n"
     ]
    },
    {
     "name": "stderr",
     "output_type": "stream",
     "text": [
      "/tmp/ipykernel_18/244848082.py:12: RuntimeWarning: invalid value encountered in divide\n",
      "  f1_scores = 2 * (precision * recall) / (precision + recall)\n"
     ]
    },
    {
     "data": {
      "image/png": "[encoded data removed]",
      "text/plain": [
       "<Figure size 1000x600 with 1 Axes>"
      ]
     },
     "metadata": {},
     "output_type": "display_data"
    }
   ],
   "source": [
    "import numpy as np\n",
    "import matplotlib.pyplot as plt\n",
    "from sklearn.metrics import precision_recall_curve, f1_score\n",
    "\n",
    "# Predict probabilities for the test set\n",
    "y_prob = model.predict_proba(X_test_processed)[:, 1]\n",
    "\n",
    "# Compute precision, recall, and thresholds\n",
    "precision, recall, thresholds = precision_recall_curve(y_test, y_prob)\n",
    "\n",
    "# Calculate F1 scores for different thresholds\n",
    "f1_scores = 2 * (precision * recall) / (precision + recall)\n",
    "f1_scores[np.isnan(f1_scores)] = 0  # Handle division by zero\n",
    "\n",
    "# Find the threshold that gives the maximum F1 score\n",
    "best_threshold_index = np.argmax(f1_scores)\n",
    "best_threshold = thresholds[best_threshold_index]\n",
    "\n",
    "# Print the best threshold and corresponding F1 score\n",
    "print(f'Best Threshold: {best_threshold:.4f}')\n",
    "print(f'Best F1 Score: {f1_scores[best_threshold_index]:.4f}')\n",
    "\n",
    "# Plot Precision-Recall curve and F1 score\n",
    "plt.figure(figsize=(10, 6))\n",
    "plt.plot(recall, precision, label='Precision-Recall Curve')\n",
    "plt.axvline(x=recall[best_threshold_index], color='r', linestyle='--', label='Best Threshold')\n",
    "plt.xlabel('Recall')\n",
    "plt.ylabel('Precision')\n",
    "plt.title('Precision-Recall Curve')\n",
    "plt.legend()\n",
    "plt.grid(True)\n",
    "plt.show()\n"
   ]
  },
  {
   "cell_type": "markdown",
   "id": "38f32972",
   "metadata": {
    "papermill": {
     "duration": 0.006904,
     "end_time": "2024-08-02T08:08:23.855938",
     "exception": false,
     "start_time": "2024-08-02T08:08:23.849034",
     "status": "completed"
    },
    "tags": []
   },
   "source": [
    "\n",
    "Precision for Class 1 is very low (0.05), indicating that when the model predicts fraud, it is rarely correct.\n",
    "Recall for Class 1 is high (0.81), meaning the model identifies most of the actual fraud cases.\n",
    "Overall Accuracy is 0.90, but this includes the performance on both classes. The low precision for Class 1 affects the balanced evaluation\n",
    "\n"
   ]
  },
  {
   "cell_type": "code",
   "execution_count": null,
   "id": "229a437f",
   "metadata": {
    "papermill": {
     "duration": 0.00576,
     "end_time": "2024-08-02T08:08:23.867979",
     "exception": false,
     "start_time": "2024-08-02T08:08:23.862219",
     "status": "completed"
    },
    "tags": []
   },
   "outputs": [],
   "source": []
  }
 ],
 "metadata": {
  "kaggle": {
   "accelerator": "none",
   "dataSources": [
    {
     "datasetId": 5430856,
     "sourceId": 9013505,
     "sourceType": "datasetVersion"
    }
   ],
   "dockerImageVersionId": 30746,
   "isGpuEnabled": false,
   "isInternetEnabled": true,
   "language": "python",
   "sourceType": "notebook"
  },
  "kernelspec": {
   "display_name": "Python 3",
   "language": "python",
   "name": "python3"
  },
  "language_info": {
   "codemirror_mode": {
    "name": "ipython",
    "version": 3
   },
   "file_extension": ".py",
   "mimetype": "text/x-python",
   "name": "python",
   "nbconvert_exporter": "python",
   "pygments_lexer": "ipython3",
   "version": "3.10.13"
  },
  "papermill": {
   "default_parameters": {},
   "duration": 336.501446,
   "end_time": "2024-08-02T08:08:24.698223",
   "environment_variables": {},
   "exception": null,
   "input_path": "__notebook__.ipynb",
   "output_path": "__notebook__.ipynb",
   "parameters": {},
   "start_time": "2024-08-02T08:02:48.196777",
   "version": "2.5.0"
  }
 },
 "nbformat": 4,
 "nbformat_minor": 5
}
